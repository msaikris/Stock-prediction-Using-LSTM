{
 "cells": [
  {
   "cell_type": "code",
   "execution_count": 1,
   "metadata": {},
   "outputs": [],
   "source": [
    "import pandas_datareader as pdr"
   ]
  },
  {
   "cell_type": "code",
   "execution_count": 3,
   "metadata": {},
   "outputs": [],
   "source": [
    "df=pdr.get_data_tiingo('AAPL',api_key='')"
   ]
  },
  {
   "cell_type": "code",
   "execution_count": 4,
   "metadata": {},
   "outputs": [],
   "source": [
    "df.to_csv('AAPL.csv')"
   ]
  },
  {
   "cell_type": "code",
   "execution_count": 14,
   "metadata": {},
   "outputs": [],
   "source": [
    "import pandas as pd\n",
    "import matplotlib.pyplot as plt"
   ]
  },
  {
   "cell_type": "code",
   "execution_count": 15,
   "metadata": {},
   "outputs": [],
   "source": [
    "df=pd.read_csv('AAPL.csv')"
   ]
  },
  {
   "cell_type": "code",
   "execution_count": 16,
   "metadata": {},
   "outputs": [
    {
     "data": {
      "text/html": [
       "<div>\n",
       "<style scoped>\n",
       "    .dataframe tbody tr th:only-of-type {\n",
       "        vertical-align: middle;\n",
       "    }\n",
       "\n",
       "    .dataframe tbody tr th {\n",
       "        vertical-align: top;\n",
       "    }\n",
       "\n",
       "    .dataframe thead th {\n",
       "        text-align: right;\n",
       "    }\n",
       "</style>\n",
       "<table border=\"1\" class=\"dataframe\">\n",
       "  <thead>\n",
       "    <tr style=\"text-align: right;\">\n",
       "      <th></th>\n",
       "      <th>symbol</th>\n",
       "      <th>date</th>\n",
       "      <th>close</th>\n",
       "      <th>high</th>\n",
       "      <th>low</th>\n",
       "      <th>open</th>\n",
       "      <th>volume</th>\n",
       "      <th>adjClose</th>\n",
       "      <th>adjHigh</th>\n",
       "      <th>adjLow</th>\n",
       "      <th>adjOpen</th>\n",
       "      <th>adjVolume</th>\n",
       "      <th>divCash</th>\n",
       "      <th>splitFactor</th>\n",
       "    </tr>\n",
       "  </thead>\n",
       "  <tbody>\n",
       "    <tr>\n",
       "      <td>1253</td>\n",
       "      <td>AAPL</td>\n",
       "      <td>2020-05-18 00:00:00+00:00</td>\n",
       "      <td>314.96</td>\n",
       "      <td>316.50</td>\n",
       "      <td>310.3241</td>\n",
       "      <td>313.17</td>\n",
       "      <td>33843125</td>\n",
       "      <td>314.96</td>\n",
       "      <td>316.50</td>\n",
       "      <td>310.3241</td>\n",
       "      <td>313.17</td>\n",
       "      <td>33843125</td>\n",
       "      <td>0.0</td>\n",
       "      <td>1.0</td>\n",
       "    </tr>\n",
       "    <tr>\n",
       "      <td>1254</td>\n",
       "      <td>AAPL</td>\n",
       "      <td>2020-05-19 00:00:00+00:00</td>\n",
       "      <td>313.14</td>\n",
       "      <td>318.52</td>\n",
       "      <td>313.0100</td>\n",
       "      <td>315.03</td>\n",
       "      <td>25432385</td>\n",
       "      <td>313.14</td>\n",
       "      <td>318.52</td>\n",
       "      <td>313.0100</td>\n",
       "      <td>315.03</td>\n",
       "      <td>25432385</td>\n",
       "      <td>0.0</td>\n",
       "      <td>1.0</td>\n",
       "    </tr>\n",
       "    <tr>\n",
       "      <td>1255</td>\n",
       "      <td>AAPL</td>\n",
       "      <td>2020-05-20 00:00:00+00:00</td>\n",
       "      <td>319.23</td>\n",
       "      <td>319.52</td>\n",
       "      <td>316.2000</td>\n",
       "      <td>316.68</td>\n",
       "      <td>27876215</td>\n",
       "      <td>319.23</td>\n",
       "      <td>319.52</td>\n",
       "      <td>316.2000</td>\n",
       "      <td>316.68</td>\n",
       "      <td>27876215</td>\n",
       "      <td>0.0</td>\n",
       "      <td>1.0</td>\n",
       "    </tr>\n",
       "    <tr>\n",
       "      <td>1256</td>\n",
       "      <td>AAPL</td>\n",
       "      <td>2020-05-21 00:00:00+00:00</td>\n",
       "      <td>316.85</td>\n",
       "      <td>320.89</td>\n",
       "      <td>315.8700</td>\n",
       "      <td>318.66</td>\n",
       "      <td>25672211</td>\n",
       "      <td>316.85</td>\n",
       "      <td>320.89</td>\n",
       "      <td>315.8700</td>\n",
       "      <td>318.66</td>\n",
       "      <td>25672211</td>\n",
       "      <td>0.0</td>\n",
       "      <td>1.0</td>\n",
       "    </tr>\n",
       "    <tr>\n",
       "      <td>1257</td>\n",
       "      <td>AAPL</td>\n",
       "      <td>2020-05-22 00:00:00+00:00</td>\n",
       "      <td>318.89</td>\n",
       "      <td>319.23</td>\n",
       "      <td>315.3500</td>\n",
       "      <td>315.77</td>\n",
       "      <td>20450754</td>\n",
       "      <td>318.89</td>\n",
       "      <td>319.23</td>\n",
       "      <td>315.3500</td>\n",
       "      <td>315.77</td>\n",
       "      <td>20450754</td>\n",
       "      <td>0.0</td>\n",
       "      <td>1.0</td>\n",
       "    </tr>\n",
       "  </tbody>\n",
       "</table>\n",
       "</div>"
      ],
      "text/plain": [
       "     symbol                       date   close    high       low    open  \\\n",
       "1253   AAPL  2020-05-18 00:00:00+00:00  314.96  316.50  310.3241  313.17   \n",
       "1254   AAPL  2020-05-19 00:00:00+00:00  313.14  318.52  313.0100  315.03   \n",
       "1255   AAPL  2020-05-20 00:00:00+00:00  319.23  319.52  316.2000  316.68   \n",
       "1256   AAPL  2020-05-21 00:00:00+00:00  316.85  320.89  315.8700  318.66   \n",
       "1257   AAPL  2020-05-22 00:00:00+00:00  318.89  319.23  315.3500  315.77   \n",
       "\n",
       "        volume  adjClose  adjHigh    adjLow  adjOpen  adjVolume  divCash  \\\n",
       "1253  33843125    314.96   316.50  310.3241   313.17   33843125      0.0   \n",
       "1254  25432385    313.14   318.52  313.0100   315.03   25432385      0.0   \n",
       "1255  27876215    319.23   319.52  316.2000   316.68   27876215      0.0   \n",
       "1256  25672211    316.85   320.89  315.8700   318.66   25672211      0.0   \n",
       "1257  20450754    318.89   319.23  315.3500   315.77   20450754      0.0   \n",
       "\n",
       "      splitFactor  \n",
       "1253          1.0  \n",
       "1254          1.0  \n",
       "1255          1.0  \n",
       "1256          1.0  \n",
       "1257          1.0  "
      ]
     },
     "execution_count": 16,
     "metadata": {},
     "output_type": "execute_result"
    }
   ],
   "source": [
    "df.tail()"
   ]
  },
  {
   "cell_type": "code",
   "execution_count": 17,
   "metadata": {},
   "outputs": [],
   "source": [
    "df1=df.reset_index()['close']"
   ]
  },
  {
   "cell_type": "code",
   "execution_count": 18,
   "metadata": {},
   "outputs": [
    {
     "data": {
      "text/plain": [
       "(1258,)"
      ]
     },
     "execution_count": 18,
     "metadata": {},
     "output_type": "execute_result"
    }
   ],
   "source": [
    "df1.shape"
   ]
  },
  {
   "cell_type": "code",
   "execution_count": 20,
   "metadata": {},
   "outputs": [
    {
     "data": {
      "text/plain": [
       "[<matplotlib.lines.Line2D at 0x202c1af4438>]"
      ]
     },
     "execution_count": 20,
     "metadata": {},
     "output_type": "execute_result"
    },
    {
     "data": {
      "image/png": "[encoded data removed]",
      "text/plain": [
       "<Figure size 432x288 with 1 Axes>"
      ]
     },
     "metadata": {
      "needs_background": "light"
     },
     "output_type": "display_data"
    }
   ],
   "source": [
    "plt.plot(df1)"
   ]
  },
  {
   "cell_type": "code",
   "execution_count": 21,
   "metadata": {},
   "outputs": [],
   "source": [
    "## LSTM are sensitive to scale of the data. so we apply minmax scaler"
   ]
  },
  {
   "cell_type": "code",
   "execution_count": 32,
   "metadata": {},
   "outputs": [],
   "source": [
    "import numpy as np\n"
   ]
  },
  {
   "cell_type": "code",
   "execution_count": 33,
   "metadata": {},
   "outputs": [],
   "source": [
    "from sklearn.preprocessing import MinMaxScaler\n",
    "scaler=MinMaxScaler(feature_range=(0,1))\n",
    "df1=scaler.fit_transform(np.array(df1).reshape(-1,1))"
   ]
  },
  {
   "cell_type": "code",
   "execution_count": 34,
   "metadata": {},
   "outputs": [
    {
     "data": {
      "text/plain": [
       "array([[0.17607447],\n",
       "       [0.17495567],\n",
       "       [0.16862282],\n",
       "       ...,\n",
       "       [0.96635143],\n",
       "       [0.9563033 ],\n",
       "       [0.96491598]])"
      ]
     },
     "execution_count": 34,
     "metadata": {},
     "output_type": "execute_result"
    }
   ],
   "source": [
    "df1"
   ]
  },
  {
   "cell_type": "code",
   "execution_count": 35,
   "metadata": {},
   "outputs": [],
   "source": [
    "training_size=int(len(df1)*0.65)\n",
    "test_size=len(df1)-training_size\n",
    "train_data,test_data=df1[0:training_size,:],df1[training_size:len(df1),:1]"
   ]
  },
  {
   "cell_type": "code",
   "execution_count": 36,
   "metadata": {},
   "outputs": [
    {
     "data": {
      "text/plain": [
       "(817, 441)"
      ]
     },
     "execution_count": 36,
     "metadata": {},
     "output_type": "execute_result"
    }
   ],
   "source": [
    "training_size,test_size"
   ]
  },
  {
   "cell_type": "raw",
   "metadata": {},
   "source": [
    "# convert an array values into a dataset matrix"
   ]
  },
  {
   "cell_type": "code",
   "execution_count": 45,
   "metadata": {},
   "outputs": [],
   "source": [
    "\n",
    "def create_dataset(dataset,time_step=1):\n",
    "    dataX, dataY =[],[]\n",
    "    for i in range (len(dataset)-time_step-1):\n",
    "        a=dataset[i:(i+time_step),0]  ##0,1,2,3,4,5---99\n",
    "        dataX.append(a)\n",
    "        dataY.append(dataset[i+time_step,0])\n",
    "    return np.array(dataX),numpy.array(dataY)    \n"
   ]
  },
  {
   "cell_type": "markdown",
   "metadata": {},
   "source": [
    "# reshape into X=t,X=t+1,X=t+2"
   ]
  },
  {
   "cell_type": "code",
   "execution_count": 44,
   "metadata": {},
   "outputs": [],
   "source": [
    "time_step=100\n",
    "X_train,y_train = create_dataset(train_data,time_step)\n",
    "X_test,y_test=create_dataset(test_data,time_step)"
   ]
  },
  {
   "cell_type": "code",
   "execution_count": 49,
   "metadata": {},
   "outputs": [
    {
     "name": "stdout",
     "output_type": "stream",
     "text": [
      "(716, 100)\n",
      "(716,)\n"
     ]
    },
    {
     "data": {
      "text/plain": [
       "(None, None)"
      ]
     },
     "execution_count": 49,
     "metadata": {},
     "output_type": "execute_result"
    }
   ],
   "source": [
    "print(X_train.shape),print(y_train.shape)"
   ]
  },
  {
   "cell_type": "code",
   "execution_count": 48,
   "metadata": {},
   "outputs": [
    {
     "name": "stdout",
     "output_type": "stream",
     "text": [
      "(340, 100)\n",
      "(340,)\n"
     ]
    },
    {
     "data": {
      "text/plain": [
       "(None, None)"
      ]
     },
     "execution_count": 48,
     "metadata": {},
     "output_type": "execute_result"
    }
   ],
   "source": [
    "print(X_test.shape),print(y_test.shape)"
   ]
  },
  {
   "cell_type": "code",
   "execution_count": 50,
   "metadata": {},
   "outputs": [],
   "source": [
    "# reshape input to be [samples, time steps, features] which is required for LSTM\n",
    "X_train =X_train.reshape(X_train.shape[0],X_train.shape[1] , 1)\n",
    "X_test = X_test.reshape(X_test.shape[0],X_test.shape[1] , 1)"
   ]
  },
  {
   "cell_type": "code",
   "execution_count": 51,
   "metadata": {},
   "outputs": [],
   "source": [
    "### Create the Stacked LSTM model\n",
    "from tensorflow.keras.models import Sequential\n",
    "from tensorflow.keras.layers import Dense\n",
    "from tensorflow.keras.layers import LSTM"
   ]
  },
  {
   "cell_type": "code",
   "execution_count": 52,
   "metadata": {},
   "outputs": [],
   "source": [
    "model=Sequential()\n",
    "model.add(LSTM(50,return_sequences=True,input_shape=(100,1)))\n",
    "model.add(LSTM(50,return_sequences=True))\n",
    "model.add(LSTM(50))\n",
    "model.add(Dense(1))\n",
    "model.compile(loss='mean_squared_error',optimizer='adam')"
   ]
  },
  {
   "cell_type": "code",
   "execution_count": 53,
   "metadata": {},
   "outputs": [
    {
     "name": "stdout",
     "output_type": "stream",
     "text": [
      "Model: \"sequential\"\n",
      "_________________________________________________________________\n",
      "Layer (type)                 Output Shape              Param #   \n",
      "=================================================================\n",
      "lstm (LSTM)                  (None, 100, 50)           10400     \n",
      "_________________________________________________________________\n",
      "lstm_1 (LSTM)                (None, 100, 50)           20200     \n",
      "_________________________________________________________________\n",
      "lstm_2 (LSTM)                (None, 50)                20200     \n",
      "_________________________________________________________________\n",
      "dense (Dense)                (None, 1)                 51        \n",
      "=================================================================\n",
      "Total params: 50,851\n",
      "Trainable params: 50,851\n",
      "Non-trainable params: 0\n",
      "_________________________________________________________________\n"
     ]
    }
   ],
   "source": [
    "model.summary()"
   ]
  },
  {
   "cell_type": "code",
   "execution_count": 55,
   "metadata": {},
   "outputs": [
    {
     "name": "stdout",
     "output_type": "stream",
     "text": [
      "Train on 716 samples, validate on 340 samples\n",
      "Epoch 1/100\n",
      "716/716 [==============================] - 15s 21ms/sample - loss: 0.0165 - val_loss: 0.0618\n",
      "Epoch 2/100\n",
      "716/716 [==============================] - 6s 8ms/sample - loss: 0.0033 - val_loss: 0.0048\n",
      "Epoch 3/100\n",
      "716/716 [==============================] - 5s 7ms/sample - loss: 0.0011 - val_loss: 0.0045\n",
      "Epoch 4/100\n",
      "716/716 [==============================] - 5s 7ms/sample - loss: 8.9318e-04 - val_loss: 0.0041\n",
      "Epoch 5/100\n",
      "716/716 [==============================] - 5s 7ms/sample - loss: 7.4564e-04 - val_loss: 0.0054\n",
      "Epoch 6/100\n",
      "716/716 [==============================] - 6s 8ms/sample - loss: 6.4257e-04 - val_loss: 0.0040\n",
      "Epoch 7/100\n",
      "716/716 [==============================] - 5s 7ms/sample - loss: 6.8487e-04 - val_loss: 0.0040\n",
      "Epoch 8/100\n",
      "716/716 [==============================] - 5s 7ms/sample - loss: 6.3954e-04 - val_loss: 0.0040\n",
      "Epoch 9/100\n",
      "716/716 [==============================] - 5s 7ms/sample - loss: 6.2671e-04 - val_loss: 0.0040\n",
      "Epoch 10/100\n",
      "716/716 [==============================] - 5s 7ms/sample - loss: 6.0740e-04 - val_loss: 0.0047\n",
      "Epoch 11/100\n",
      "716/716 [==============================] - 6s 8ms/sample - loss: 6.2035e-04 - val_loss: 0.0040\n",
      "Epoch 12/100\n",
      "716/716 [==============================] - 13s 18ms/sample - loss: 6.1972e-04 - val_loss: 0.0037\n",
      "Epoch 13/100\n",
      "716/716 [==============================] - 10s 14ms/sample - loss: 5.9831e-04 - val_loss: 0.0037\n",
      "Epoch 14/100\n",
      "716/716 [==============================] - 9s 12ms/sample - loss: 5.7921e-04 - val_loss: 0.0038\n",
      "Epoch 15/100\n",
      "716/716 [==============================] - 9s 12ms/sample - loss: 6.1417e-04 - val_loss: 0.0034\n",
      "Epoch 16/100\n",
      "716/716 [==============================] - 7s 10ms/sample - loss: 6.6924e-04 - val_loss: 0.0034\n",
      "Epoch 17/100\n",
      "716/716 [==============================] - 8s 11ms/sample - loss: 5.8691e-04 - val_loss: 0.0034\n",
      "Epoch 18/100\n",
      "716/716 [==============================] - 7s 10ms/sample - loss: 5.4857e-04 - val_loss: 0.0035\n",
      "Epoch 19/100\n",
      "716/716 [==============================] - 8s 11ms/sample - loss: 5.4280e-04 - val_loss: 0.0036\n",
      "Epoch 20/100\n",
      "716/716 [==============================] - 7s 10ms/sample - loss: 5.3526e-04 - val_loss: 0.0033\n",
      "Epoch 21/100\n",
      "716/716 [==============================] - 7s 10ms/sample - loss: 5.1969e-04 - val_loss: 0.0030\n",
      "Epoch 22/100\n",
      "716/716 [==============================] - 7s 10ms/sample - loss: 5.5457e-04 - val_loss: 0.0031\n",
      "Epoch 23/100\n",
      "716/716 [==============================] - 8s 11ms/sample - loss: 5.1087e-04 - val_loss: 0.0029\n",
      "Epoch 24/100\n",
      "716/716 [==============================] - 7s 10ms/sample - loss: 5.3114e-04 - val_loss: 0.0034\n",
      "Epoch 25/100\n",
      "716/716 [==============================] - 7s 10ms/sample - loss: 5.4994e-04 - val_loss: 0.0031\n",
      "Epoch 26/100\n",
      "716/716 [==============================] - 7s 10ms/sample - loss: 5.1082e-04 - val_loss: 0.0027\n",
      "Epoch 27/100\n",
      "716/716 [==============================] - 8s 11ms/sample - loss: 5.0941e-04 - val_loss: 0.0041\n",
      "Epoch 28/100\n",
      "716/716 [==============================] - 7s 10ms/sample - loss: 5.8894e-04 - val_loss: 0.0026\n",
      "Epoch 29/100\n",
      "716/716 [==============================] - 8s 10ms/sample - loss: 5.4079e-04 - val_loss: 0.0025\n",
      "Epoch 30/100\n",
      "716/716 [==============================] - 8s 11ms/sample - loss: 4.7555e-04 - val_loss: 0.0024\n",
      "Epoch 31/100\n",
      "716/716 [==============================] - 8s 11ms/sample - loss: 4.8156e-04 - val_loss: 0.0024\n",
      "Epoch 32/100\n",
      "716/716 [==============================] - 8s 11ms/sample - loss: 4.5138e-04 - val_loss: 0.0029\n",
      "Epoch 33/100\n",
      "716/716 [==============================] - 7s 10ms/sample - loss: 4.7845e-04 - val_loss: 0.0022\n",
      "Epoch 34/100\n",
      "716/716 [==============================] - 8s 11ms/sample - loss: 4.5160e-04 - val_loss: 0.0023\n",
      "Epoch 35/100\n",
      "716/716 [==============================] - 7s 10ms/sample - loss: 5.1065e-04 - val_loss: 0.0021\n",
      "Epoch 36/100\n",
      "716/716 [==============================] - 7s 10ms/sample - loss: 5.6256e-04 - val_loss: 0.0021\n",
      "Epoch 37/100\n",
      "716/716 [==============================] - 7s 10ms/sample - loss: 4.4777e-04 - val_loss: 0.0030\n",
      "Epoch 38/100\n",
      "716/716 [==============================] - 8s 11ms/sample - loss: 4.3604e-04 - val_loss: 0.0021\n",
      "Epoch 39/100\n",
      "716/716 [==============================] - 7s 10ms/sample - loss: 3.8567e-04 - val_loss: 0.0024\n",
      "Epoch 40/100\n",
      "716/716 [==============================] - 8s 11ms/sample - loss: 3.9665e-04 - val_loss: 0.0020\n",
      "Epoch 41/100\n",
      "716/716 [==============================] - 7s 10ms/sample - loss: 3.9361e-04 - val_loss: 0.0022\n",
      "Epoch 42/100\n",
      "716/716 [==============================] - 7s 10ms/sample - loss: 5.7862e-04 - val_loss: 0.0018\n",
      "Epoch 43/100\n",
      "716/716 [==============================] - 7s 10ms/sample - loss: 4.0695e-04 - val_loss: 0.0033\n",
      "Epoch 44/100\n",
      "716/716 [==============================] - 8s 11ms/sample - loss: 4.4017e-04 - val_loss: 0.0017\n",
      "Epoch 45/100\n",
      "716/716 [==============================] - 7s 10ms/sample - loss: 3.8654e-04 - val_loss: 0.0016\n",
      "Epoch 46/100\n",
      "716/716 [==============================] - 8s 11ms/sample - loss: 3.5837e-04 - val_loss: 0.0021\n",
      "Epoch 47/100\n",
      "716/716 [==============================] - 7s 10ms/sample - loss: 3.5730e-04 - val_loss: 0.0016\n",
      "Epoch 48/100\n",
      "716/716 [==============================] - 7s 10ms/sample - loss: 3.5483e-04 - val_loss: 0.0021\n",
      "Epoch 49/100\n",
      "716/716 [==============================] - 7s 10ms/sample - loss: 3.9968e-04 - val_loss: 0.0016\n",
      "Epoch 50/100\n",
      "716/716 [==============================] - 8s 11ms/sample - loss: 3.6345e-04 - val_loss: 0.0014\n",
      "Epoch 51/100\n",
      "716/716 [==============================] - 8s 12ms/sample - loss: 3.3341e-04 - val_loss: 0.0014\n",
      "Epoch 52/100\n",
      "716/716 [==============================] - 7s 10ms/sample - loss: 3.2916e-04 - val_loss: 0.0018\n",
      "Epoch 53/100\n",
      "716/716 [==============================] - 8s 11ms/sample - loss: 3.1579e-04 - val_loss: 0.0020\n",
      "Epoch 54/100\n",
      "716/716 [==============================] - 8s 11ms/sample - loss: 3.3291e-04 - val_loss: 0.0015\n",
      "Epoch 55/100\n",
      "716/716 [==============================] - 7s 10ms/sample - loss: 3.6666e-04 - val_loss: 0.0019\n",
      "Epoch 56/100\n",
      "716/716 [==============================] - 7s 10ms/sample - loss: 3.5602e-04 - val_loss: 0.0021\n",
      "Epoch 57/100\n",
      "716/716 [==============================] - 7s 9ms/sample - loss: 2.9782e-04 - val_loss: 0.0013\n",
      "Epoch 58/100\n",
      "716/716 [==============================] - 7s 9ms/sample - loss: 2.9508e-04 - val_loss: 0.0015\n",
      "Epoch 59/100\n",
      "716/716 [==============================] - 8s 11ms/sample - loss: 2.8822e-04 - val_loss: 0.0013\n",
      "Epoch 60/100\n",
      "716/716 [==============================] - 7s 10ms/sample - loss: 3.0021e-04 - val_loss: 0.0014\n",
      "Epoch 61/100\n",
      "716/716 [==============================] - 8s 11ms/sample - loss: 2.8515e-04 - val_loss: 0.0013\n",
      "Epoch 62/100\n",
      "716/716 [==============================] - 8s 11ms/sample - loss: 2.6903e-04 - val_loss: 0.0015\n",
      "Epoch 63/100\n",
      "716/716 [==============================] - 8s 11ms/sample - loss: 2.7688e-04 - val_loss: 0.0013\n",
      "Epoch 64/100\n",
      "716/716 [==============================] - 8s 11ms/sample - loss: 2.9328e-04 - val_loss: 0.0024\n",
      "Epoch 65/100\n",
      "716/716 [==============================] - 8s 10ms/sample - loss: 3.3996e-04 - val_loss: 0.0014\n",
      "Epoch 66/100\n",
      "716/716 [==============================] - 8s 11ms/sample - loss: 2.9647e-04 - val_loss: 0.0013\n",
      "Epoch 67/100\n",
      "716/716 [==============================] - 7s 10ms/sample - loss: 2.7647e-04 - val_loss: 0.0017\n",
      "Epoch 68/100\n",
      "716/716 [==============================] - 8s 11ms/sample - loss: 2.6963e-04 - val_loss: 0.0012\n",
      "Epoch 69/100\n",
      "716/716 [==============================] - 7s 10ms/sample - loss: 2.5392e-04 - val_loss: 0.0012\n",
      "Epoch 70/100\n",
      "716/716 [==============================] - 8s 11ms/sample - loss: 2.5064e-04 - val_loss: 0.0012\n",
      "Epoch 71/100\n",
      "716/716 [==============================] - 7s 10ms/sample - loss: 2.5658e-04 - val_loss: 0.0016\n",
      "Epoch 72/100\n",
      "716/716 [==============================] - 7s 10ms/sample - loss: 2.5602e-04 - val_loss: 0.0012\n",
      "Epoch 73/100\n",
      "716/716 [==============================] - 7s 10ms/sample - loss: 2.5533e-04 - val_loss: 0.0017\n",
      "Epoch 74/100\n",
      "716/716 [==============================] - 8s 11ms/sample - loss: 2.4213e-04 - val_loss: 0.0013\n",
      "Epoch 75/100\n",
      "716/716 [==============================] - 7s 10ms/sample - loss: 2.2203e-04 - val_loss: 0.0013\n",
      "Epoch 76/100\n"
     ]
    },
    {
     "name": "stdout",
     "output_type": "stream",
     "text": [
      "716/716 [==============================] - 8s 11ms/sample - loss: 2.2537e-04 - val_loss: 0.0012\n",
      "Epoch 77/100\n",
      "716/716 [==============================] - 7s 10ms/sample - loss: 2.2185e-04 - val_loss: 0.0022\n",
      "Epoch 78/100\n",
      "716/716 [==============================] - 8s 11ms/sample - loss: 2.2766e-04 - val_loss: 0.0014\n",
      "Epoch 79/100\n",
      "716/716 [==============================] - 8s 11ms/sample - loss: 2.1149e-04 - val_loss: 0.0012\n",
      "Epoch 80/100\n",
      "716/716 [==============================] - 7s 10ms/sample - loss: 2.0749e-04 - val_loss: 0.0012\n",
      "Epoch 81/100\n",
      "716/716 [==============================] - 8s 11ms/sample - loss: 2.0940e-04 - val_loss: 0.0011\n",
      "Epoch 82/100\n",
      "716/716 [==============================] - 8s 11ms/sample - loss: 2.0113e-04 - val_loss: 0.0012\n",
      "Epoch 83/100\n",
      "716/716 [==============================] - 7s 10ms/sample - loss: 1.9593e-04 - val_loss: 0.0011\n",
      "Epoch 84/100\n",
      "716/716 [==============================] - 7s 10ms/sample - loss: 1.9748e-04 - val_loss: 0.0012\n",
      "Epoch 85/100\n",
      "716/716 [==============================] - 8s 11ms/sample - loss: 1.8985e-04 - val_loss: 0.0011\n",
      "Epoch 86/100\n",
      "716/716 [==============================] - 8s 11ms/sample - loss: 1.8590e-04 - val_loss: 0.0013\n",
      "Epoch 87/100\n",
      "716/716 [==============================] - 8s 11ms/sample - loss: 1.8925e-04 - val_loss: 0.0012\n",
      "Epoch 88/100\n",
      "716/716 [==============================] - 7s 10ms/sample - loss: 1.8434e-04 - val_loss: 0.0010\n",
      "Epoch 89/100\n",
      "716/716 [==============================] - 8s 11ms/sample - loss: 1.8590e-04 - val_loss: 0.0011\n",
      "Epoch 90/100\n",
      "716/716 [==============================] - 8s 11ms/sample - loss: 1.8051e-04 - val_loss: 0.0013\n",
      "Epoch 91/100\n",
      "716/716 [==============================] - 8s 11ms/sample - loss: 1.8482e-04 - val_loss: 0.0010\n",
      "Epoch 92/100\n",
      "716/716 [==============================] - 7s 10ms/sample - loss: 1.8077e-04 - val_loss: 0.0011\n",
      "Epoch 93/100\n",
      "716/716 [==============================] - 8s 11ms/sample - loss: 1.9596e-04 - val_loss: 0.0015\n",
      "Epoch 94/100\n",
      "716/716 [==============================] - 8s 11ms/sample - loss: 1.7468e-04 - val_loss: 0.0010\n",
      "Epoch 95/100\n",
      "716/716 [==============================] - 8s 11ms/sample - loss: 1.8655e-04 - val_loss: 0.0015\n",
      "Epoch 96/100\n",
      "716/716 [==============================] - 8s 11ms/sample - loss: 1.7032e-04 - val_loss: 0.0010\n",
      "Epoch 97/100\n",
      "716/716 [==============================] - 7s 10ms/sample - loss: 1.8256e-04 - val_loss: 0.0011\n",
      "Epoch 98/100\n",
      "716/716 [==============================] - 8s 11ms/sample - loss: 1.6718e-04 - val_loss: 0.0010\n",
      "Epoch 99/100\n",
      "716/716 [==============================] - 8s 11ms/sample - loss: 1.6031e-04 - val_loss: 9.5569e-04\n",
      "Epoch 100/100\n",
      "716/716 [==============================] - 8s 11ms/sample - loss: 1.5213e-04 - val_loss: 0.0011\n"
     ]
    },
    {
     "data": {
      "text/plain": [
       "<tensorflow.python.keras.callbacks.History at 0x202caa7b240>"
      ]
     },
     "execution_count": 55,
     "metadata": {},
     "output_type": "execute_result"
    }
   ],
   "source": [
    "model.fit(X_train,y_train,validation_data=(X_test,y_test),epochs=100,batch_size=64,verbose=1)"
   ]
  },
  {
   "cell_type": "code",
   "execution_count": 57,
   "metadata": {},
   "outputs": [],
   "source": [
    "\n",
    "import tensorflow as tf"
   ]
  },
  {
   "cell_type": "code",
   "execution_count": 58,
   "metadata": {},
   "outputs": [],
   "source": [
    "### Lets Do the prediction and check performance metrics\n",
    "train_predict=model.predict(X_train)\n",
    "test_predict=model.predict(X_test)"
   ]
  },
  {
   "cell_type": "code",
   "execution_count": 61,
   "metadata": {},
   "outputs": [],
   "source": [
    "##Transformback to original form\n",
    "train_predict=scaler.inverse_transform(train_predict)\n",
    "test_predict=scaler.inverse_transform(test_predict)"
   ]
  },
  {
   "cell_type": "code",
   "execution_count": 62,
   "metadata": {},
   "outputs": [
    {
     "data": {
      "text/plain": [
       "0.012330480125819493"
      ]
     },
     "execution_count": 62,
     "metadata": {},
     "output_type": "execute_result"
    }
   ],
   "source": [
    "### Calculate RMSE performance metrics\n",
    "import math\n",
    "from sklearn.metrics import mean_squared_error\n",
    "math.sqrt(mean_squared_error(y_train,train_predict))"
   ]
  },
  {
   "cell_type": "code",
   "execution_count": 64,
   "metadata": {},
   "outputs": [
    {
     "data": {
      "text/plain": [
       "0.03253402863344206"
      ]
     },
     "execution_count": 64,
     "metadata": {},
     "output_type": "execute_result"
    }
   ],
   "source": [
    "### Test Data RMSE\n",
    "math.sqrt(mean_squared_error(y_test,test_predict))"
   ]
  },
  {
   "cell_type": "code",
   "execution_count": 65,
   "metadata": {},
   "outputs": [
    {
     "data": {
      "image/png": "[encoded data removed]",
      "text/plain": [
       "<Figure size 432x288 with 1 Axes>"
      ]
     },
     "metadata": {
      "needs_background": "light"
     },
     "output_type": "display_data"
    }
   ],
   "source": [
    "\n",
    "### Plotting \n",
    "# shift train predictions for plotting\n",
    "look_back=100\n",
    "trainPredictPlot = numpy.empty_like(df1)\n",
    "trainPredictPlot[:, :] = np.nan\n",
    "trainPredictPlot[look_back:len(train_predict)+look_back, :] = train_predict\n",
    "# shift test predictions for plotting\n",
    "testPredictPlot = numpy.empty_like(df1)\n",
    "testPredictPlot[:, :] = numpy.nan\n",
    "testPredictPlot[len(train_predict)+(look_back*2)+1:len(df1)-1, :] = test_predict\n",
    "# plot baseline and predictions\n",
    "plt.plot(scaler.inverse_transform(df1))\n",
    "plt.plot(trainPredictPlot)\n",
    "plt.plot(testPredictPlot)\n",
    "plt.show()"
   ]
  },
  {
   "cell_type": "code",
   "execution_count": 66,
   "metadata": {},
   "outputs": [
    {
     "data": {
      "text/plain": [
       "441"
      ]
     },
     "execution_count": 66,
     "metadata": {},
     "output_type": "execute_result"
    }
   ],
   "source": [
    "len(test_data)"
   ]
  },
  {
   "cell_type": "code",
   "execution_count": 67,
   "metadata": {},
   "outputs": [
    {
     "data": {
      "text/plain": [
       "(1, 100)"
      ]
     },
     "execution_count": 67,
     "metadata": {},
     "output_type": "execute_result"
    }
   ],
   "source": [
    "x_input=test_data[341:].reshape(1,-1)\n",
    "x_input.shape"
   ]
  },
  {
   "cell_type": "code",
   "execution_count": 68,
   "metadata": {},
   "outputs": [],
   "source": [
    "temp_input=list(x_input)\n",
    "temp_input=temp_input[0].tolist()"
   ]
  },
  {
   "cell_type": "code",
   "execution_count": 69,
   "metadata": {},
   "outputs": [
    {
     "data": {
      "text/plain": [
       "[0.8583551465000421,\n",
       " 0.886641898167694,\n",
       " 0.8743139407244787,\n",
       " 0.8843198513890063,\n",
       " 0.8783669678290973,\n",
       " 0.8986321033521911,\n",
       " 0.9258211601790087,\n",
       " 0.928776492442793,\n",
       " 0.9567677108840664,\n",
       " 0.9386979650426412,\n",
       " 0.9330406147091108,\n",
       " 0.9495060373216246,\n",
       " 0.9642404796082074,\n",
       " 0.9551211686228152,\n",
       " 0.9598919192772102,\n",
       " 0.9663514312251964,\n",
       " 0.9624672802499366,\n",
       " 0.9229502659799036,\n",
       " 0.9598497002448703,\n",
       " 0.987925356750823,\n",
       " 0.9859410622308538,\n",
       " 0.9253145317909313,\n",
       " 0.9217259140420502,\n",
       " 0.9647471079962848,\n",
       " 0.9757240564046272,\n",
       " 0.991598412564384,\n",
       " 0.9697289538123786,\n",
       " 0.9761462467280251,\n",
       " 0.967955754454108,\n",
       " 1.0,\n",
       " 0.9901629654648316,\n",
       " 0.9905007177235496,\n",
       " 0.9653803934813814,\n",
       " 0.9848855864223591,\n",
       " 0.9708688676855526,\n",
       " 0.9402600692392131,\n",
       " 0.8774803681499619,\n",
       " 0.8348391454867854,\n",
       " 0.8541332432660642,\n",
       " 0.7733682344000674,\n",
       " 0.7726927298826312,\n",
       " 0.8801401671873681,\n",
       " 0.840074305496918,\n",
       " 0.896732246896901,\n",
       " 0.8552731571392385,\n",
       " 0.8388499535590643,\n",
       " 0.7423372456303302,\n",
       " 0.8232711306256859,\n",
       " 0.7814320695769652,\n",
       " 0.6665963016127671,\n",
       " 0.7921557037912692,\n",
       " 0.6411804441442203,\n",
       " 0.6861437135860847,\n",
       " 0.6600101325677615,\n",
       " 0.6520307354555434,\n",
       " 0.5864223591995271,\n",
       " 0.565861690450055,\n",
       " 0.6608967322468969,\n",
       " 0.6551549438486871,\n",
       " 0.7097019336316811,\n",
       " 0.6645275690281179,\n",
       " 0.6943764248923415,\n",
       " 0.6921810352106729,\n",
       " 0.6356919699400491,\n",
       " 0.6526640209406401,\n",
       " 0.6378029215570379,\n",
       " 0.7267162036646121,\n",
       " 0.7138816178333193,\n",
       " 0.7419150553069324,\n",
       " 0.75002110951617,\n",
       " 0.7722283205268934,\n",
       " 0.8304905851557882,\n",
       " 0.8194291986827662,\n",
       " 0.828970699991556,\n",
       " 0.8125474964113821,\n",
       " 0.7877649244279321,\n",
       " 0.7516254327450815,\n",
       " 0.7842607447437304,\n",
       " 0.779743308283374,\n",
       " 0.8132652199611585,\n",
       " 0.814109600607954,\n",
       " 0.7947310647639956,\n",
       " 0.8333614793548931,\n",
       " 0.8589884319851389,\n",
       " 0.8390188296884236,\n",
       " 0.8562864139153932,\n",
       " 0.8748627881448956,\n",
       " 0.8878240310732077,\n",
       " 0.9009541501308791,\n",
       " 0.9279321117959975,\n",
       " 0.9485349995778096,\n",
       " 0.9333361479354894,\n",
       " 0.9174617917757324,\n",
       " 0.9254411888879508,\n",
       " 0.917715105969771,\n",
       " 0.9483239044161107,\n",
       " 0.9406400405302708,\n",
       " 0.9663514312251964,\n",
       " 0.9563033015283291,\n",
       " 0.9649159841256438]"
      ]
     },
     "execution_count": 69,
     "metadata": {},
     "output_type": "execute_result"
    }
   ],
   "source": [
    "temp_input"
   ]
  },
  {
   "cell_type": "code",
   "execution_count": 70,
   "metadata": {},
   "outputs": [
    {
     "name": "stdout",
     "output_type": "stream",
     "text": [
      "[0.9275265]\n",
      "101\n",
      "1 day input [0.8866419  0.87431394 0.88431985 0.87836697 0.8986321  0.92582116\n",
      " 0.92877649 0.95676771 0.93869797 0.93304061 0.94950604 0.96424048\n",
      " 0.95512117 0.95989192 0.96635143 0.96246728 0.92295027 0.9598497\n",
      " 0.98792536 0.98594106 0.92531453 0.92172591 0.96474711 0.97572406\n",
      " 0.99159841 0.96972895 0.97614625 0.96795575 1.         0.99016297\n",
      " 0.99050072 0.96538039 0.98488559 0.97086887 0.94026007 0.87748037\n",
      " 0.83483915 0.85413324 0.77336823 0.77269273 0.88014017 0.84007431\n",
      " 0.89673225 0.85527316 0.83884995 0.74233725 0.82327113 0.78143207\n",
      " 0.6665963  0.7921557  0.64118044 0.68614371 0.66001013 0.65203074\n",
      " 0.58642236 0.56586169 0.66089673 0.65515494 0.70970193 0.66452757\n",
      " 0.69437642 0.69218104 0.63569197 0.65266402 0.63780292 0.7267162\n",
      " 0.71388162 0.74191506 0.75002111 0.77222832 0.83049059 0.8194292\n",
      " 0.8289707  0.8125475  0.78776492 0.75162543 0.78426074 0.77974331\n",
      " 0.81326522 0.8141096  0.79473106 0.83336148 0.85898843 0.83901883\n",
      " 0.85628641 0.87486279 0.88782403 0.90095415 0.92793211 0.948535\n",
      " 0.93333615 0.91746179 0.92544119 0.91771511 0.9483239  0.94064004\n",
      " 0.96635143 0.9563033  0.96491598 0.92752647]\n",
      "1 day output [[0.91844857]]\n",
      "2 day input [0.87431394 0.88431985 0.87836697 0.8986321  0.92582116 0.92877649\n",
      " 0.95676771 0.93869797 0.93304061 0.94950604 0.96424048 0.95512117\n",
      " 0.95989192 0.96635143 0.96246728 0.92295027 0.9598497  0.98792536\n",
      " 0.98594106 0.92531453 0.92172591 0.96474711 0.97572406 0.99159841\n",
      " 0.96972895 0.97614625 0.96795575 1.         0.99016297 0.99050072\n",
      " 0.96538039 0.98488559 0.97086887 0.94026007 0.87748037 0.83483915\n",
      " 0.85413324 0.77336823 0.77269273 0.88014017 0.84007431 0.89673225\n",
      " 0.85527316 0.83884995 0.74233725 0.82327113 0.78143207 0.6665963\n",
      " 0.7921557  0.64118044 0.68614371 0.66001013 0.65203074 0.58642236\n",
      " 0.56586169 0.66089673 0.65515494 0.70970193 0.66452757 0.69437642\n",
      " 0.69218104 0.63569197 0.65266402 0.63780292 0.7267162  0.71388162\n",
      " 0.74191506 0.75002111 0.77222832 0.83049059 0.8194292  0.8289707\n",
      " 0.8125475  0.78776492 0.75162543 0.78426074 0.77974331 0.81326522\n",
      " 0.8141096  0.79473106 0.83336148 0.85898843 0.83901883 0.85628641\n",
      " 0.87486279 0.88782403 0.90095415 0.92793211 0.948535   0.93333615\n",
      " 0.91746179 0.92544119 0.91771511 0.9483239  0.94064004 0.96635143\n",
      " 0.9563033  0.96491598 0.92752647 0.91844857]\n",
      "2 day output [[0.90468633]]\n",
      "3 day input [0.88431985 0.87836697 0.8986321  0.92582116 0.92877649 0.95676771\n",
      " 0.93869797 0.93304061 0.94950604 0.96424048 0.95512117 0.95989192\n",
      " 0.96635143 0.96246728 0.92295027 0.9598497  0.98792536 0.98594106\n",
      " 0.92531453 0.92172591 0.96474711 0.97572406 0.99159841 0.96972895\n",
      " 0.97614625 0.96795575 1.         0.99016297 0.99050072 0.96538039\n",
      " 0.98488559 0.97086887 0.94026007 0.87748037 0.83483915 0.85413324\n",
      " 0.77336823 0.77269273 0.88014017 0.84007431 0.89673225 0.85527316\n",
      " 0.83884995 0.74233725 0.82327113 0.78143207 0.6665963  0.7921557\n",
      " 0.64118044 0.68614371 0.66001013 0.65203074 0.58642236 0.56586169\n",
      " 0.66089673 0.65515494 0.70970193 0.66452757 0.69437642 0.69218104\n",
      " 0.63569197 0.65266402 0.63780292 0.7267162  0.71388162 0.74191506\n",
      " 0.75002111 0.77222832 0.83049059 0.8194292  0.8289707  0.8125475\n",
      " 0.78776492 0.75162543 0.78426074 0.77974331 0.81326522 0.8141096\n",
      " 0.79473106 0.83336148 0.85898843 0.83901883 0.85628641 0.87486279\n",
      " 0.88782403 0.90095415 0.92793211 0.948535   0.93333615 0.91746179\n",
      " 0.92544119 0.91771511 0.9483239  0.94064004 0.96635143 0.9563033\n",
      " 0.96491598 0.92752647 0.91844857 0.90468633]\n",
      "3 day output [[0.89077663]]\n",
      "4 day input [0.87836697 0.8986321  0.92582116 0.92877649 0.95676771 0.93869797\n",
      " 0.93304061 0.94950604 0.96424048 0.95512117 0.95989192 0.96635143\n",
      " 0.96246728 0.92295027 0.9598497  0.98792536 0.98594106 0.92531453\n",
      " 0.92172591 0.96474711 0.97572406 0.99159841 0.96972895 0.97614625\n",
      " 0.96795575 1.         0.99016297 0.99050072 0.96538039 0.98488559\n",
      " 0.97086887 0.94026007 0.87748037 0.83483915 0.85413324 0.77336823\n",
      " 0.77269273 0.88014017 0.84007431 0.89673225 0.85527316 0.83884995\n",
      " 0.74233725 0.82327113 0.78143207 0.6665963  0.7921557  0.64118044\n",
      " 0.68614371 0.66001013 0.65203074 0.58642236 0.56586169 0.66089673\n",
      " 0.65515494 0.70970193 0.66452757 0.69437642 0.69218104 0.63569197\n",
      " 0.65266402 0.63780292 0.7267162  0.71388162 0.74191506 0.75002111\n",
      " 0.77222832 0.83049059 0.8194292  0.8289707  0.8125475  0.78776492\n",
      " 0.75162543 0.78426074 0.77974331 0.81326522 0.8141096  0.79473106\n",
      " 0.83336148 0.85898843 0.83901883 0.85628641 0.87486279 0.88782403\n",
      " 0.90095415 0.92793211 0.948535   0.93333615 0.91746179 0.92544119\n",
      " 0.91771511 0.9483239  0.94064004 0.96635143 0.9563033  0.96491598\n",
      " 0.92752647 0.91844857 0.90468633 0.89077663]\n",
      "4 day output [[0.8782481]]\n",
      "5 day input [0.8986321  0.92582116 0.92877649 0.95676771 0.93869797 0.93304061\n",
      " 0.94950604 0.96424048 0.95512117 0.95989192 0.96635143 0.96246728\n",
      " 0.92295027 0.9598497  0.98792536 0.98594106 0.92531453 0.92172591\n",
      " 0.96474711 0.97572406 0.99159841 0.96972895 0.97614625 0.96795575\n",
      " 1.         0.99016297 0.99050072 0.96538039 0.98488559 0.97086887\n",
      " 0.94026007 0.87748037 0.83483915 0.85413324 0.77336823 0.77269273\n",
      " 0.88014017 0.84007431 0.89673225 0.85527316 0.83884995 0.74233725\n",
      " 0.82327113 0.78143207 0.6665963  0.7921557  0.64118044 0.68614371\n",
      " 0.66001013 0.65203074 0.58642236 0.56586169 0.66089673 0.65515494\n",
      " 0.70970193 0.66452757 0.69437642 0.69218104 0.63569197 0.65266402\n",
      " 0.63780292 0.7267162  0.71388162 0.74191506 0.75002111 0.77222832\n",
      " 0.83049059 0.8194292  0.8289707  0.8125475  0.78776492 0.75162543\n",
      " 0.78426074 0.77974331 0.81326522 0.8141096  0.79473106 0.83336148\n",
      " 0.85898843 0.83901883 0.85628641 0.87486279 0.88782403 0.90095415\n",
      " 0.92793211 0.948535   0.93333615 0.91746179 0.92544119 0.91771511\n",
      " 0.9483239  0.94064004 0.96635143 0.9563033  0.96491598 0.92752647\n",
      " 0.91844857 0.90468633 0.89077663 0.8782481 ]\n",
      "5 day output [[0.86782104]]\n",
      "6 day input [0.92582116 0.92877649 0.95676771 0.93869797 0.93304061 0.94950604\n",
      " 0.96424048 0.95512117 0.95989192 0.96635143 0.96246728 0.92295027\n",
      " 0.9598497  0.98792536 0.98594106 0.92531453 0.92172591 0.96474711\n",
      " 0.97572406 0.99159841 0.96972895 0.97614625 0.96795575 1.\n",
      " 0.99016297 0.99050072 0.96538039 0.98488559 0.97086887 0.94026007\n",
      " 0.87748037 0.83483915 0.85413324 0.77336823 0.77269273 0.88014017\n",
      " 0.84007431 0.89673225 0.85527316 0.83884995 0.74233725 0.82327113\n",
      " 0.78143207 0.6665963  0.7921557  0.64118044 0.68614371 0.66001013\n",
      " 0.65203074 0.58642236 0.56586169 0.66089673 0.65515494 0.70970193\n",
      " 0.66452757 0.69437642 0.69218104 0.63569197 0.65266402 0.63780292\n",
      " 0.7267162  0.71388162 0.74191506 0.75002111 0.77222832 0.83049059\n",
      " 0.8194292  0.8289707  0.8125475  0.78776492 0.75162543 0.78426074\n",
      " 0.77974331 0.81326522 0.8141096  0.79473106 0.83336148 0.85898843\n",
      " 0.83901883 0.85628641 0.87486279 0.88782403 0.90095415 0.92793211\n",
      " 0.948535   0.93333615 0.91746179 0.92544119 0.91771511 0.9483239\n",
      " 0.94064004 0.96635143 0.9563033  0.96491598 0.92752647 0.91844857\n",
      " 0.90468633 0.89077663 0.8782481  0.86782104]\n",
      "6 day output [[0.8598839]]\n",
      "7 day input [0.92877649 0.95676771 0.93869797 0.93304061 0.94950604 0.96424048\n",
      " 0.95512117 0.95989192 0.96635143 0.96246728 0.92295027 0.9598497\n",
      " 0.98792536 0.98594106 0.92531453 0.92172591 0.96474711 0.97572406\n",
      " 0.99159841 0.96972895 0.97614625 0.96795575 1.         0.99016297\n",
      " 0.99050072 0.96538039 0.98488559 0.97086887 0.94026007 0.87748037\n",
      " 0.83483915 0.85413324 0.77336823 0.77269273 0.88014017 0.84007431\n",
      " 0.89673225 0.85527316 0.83884995 0.74233725 0.82327113 0.78143207\n",
      " 0.6665963  0.7921557  0.64118044 0.68614371 0.66001013 0.65203074\n",
      " 0.58642236 0.56586169 0.66089673 0.65515494 0.70970193 0.66452757\n",
      " 0.69437642 0.69218104 0.63569197 0.65266402 0.63780292 0.7267162\n",
      " 0.71388162 0.74191506 0.75002111 0.77222832 0.83049059 0.8194292\n",
      " 0.8289707  0.8125475  0.78776492 0.75162543 0.78426074 0.77974331\n",
      " 0.81326522 0.8141096  0.79473106 0.83336148 0.85898843 0.83901883\n",
      " 0.85628641 0.87486279 0.88782403 0.90095415 0.92793211 0.948535\n",
      " 0.93333615 0.91746179 0.92544119 0.91771511 0.9483239  0.94064004\n",
      " 0.96635143 0.9563033  0.96491598 0.92752647 0.91844857 0.90468633\n",
      " 0.89077663 0.8782481  0.86782104 0.8598839 ]\n",
      "7 day output [[0.854575]]\n",
      "8 day input [0.95676771 0.93869797 0.93304061 0.94950604 0.96424048 0.95512117\n",
      " 0.95989192 0.96635143 0.96246728 0.92295027 0.9598497  0.98792536\n",
      " 0.98594106 0.92531453 0.92172591 0.96474711 0.97572406 0.99159841\n",
      " 0.96972895 0.97614625 0.96795575 1.         0.99016297 0.99050072\n",
      " 0.96538039 0.98488559 0.97086887 0.94026007 0.87748037 0.83483915\n",
      " 0.85413324 0.77336823 0.77269273 0.88014017 0.84007431 0.89673225\n",
      " 0.85527316 0.83884995 0.74233725 0.82327113 0.78143207 0.6665963\n",
      " 0.7921557  0.64118044 0.68614371 0.66001013 0.65203074 0.58642236\n",
      " 0.56586169 0.66089673 0.65515494 0.70970193 0.66452757 0.69437642\n",
      " 0.69218104 0.63569197 0.65266402 0.63780292 0.7267162  0.71388162\n",
      " 0.74191506 0.75002111 0.77222832 0.83049059 0.8194292  0.8289707\n",
      " 0.8125475  0.78776492 0.75162543 0.78426074 0.77974331 0.81326522\n",
      " 0.8141096  0.79473106 0.83336148 0.85898843 0.83901883 0.85628641\n",
      " 0.87486279 0.88782403 0.90095415 0.92793211 0.948535   0.93333615\n",
      " 0.91746179 0.92544119 0.91771511 0.9483239  0.94064004 0.96635143\n",
      " 0.9563033  0.96491598 0.92752647 0.91844857 0.90468633 0.89077663\n",
      " 0.8782481  0.86782104 0.8598839  0.85457498]\n"
     ]
    },
    {
     "name": "stdout",
     "output_type": "stream",
     "text": [
      "8 day output [[0.8518207]]\n",
      "9 day input [0.93869797 0.93304061 0.94950604 0.96424048 0.95512117 0.95989192\n",
      " 0.96635143 0.96246728 0.92295027 0.9598497  0.98792536 0.98594106\n",
      " 0.92531453 0.92172591 0.96474711 0.97572406 0.99159841 0.96972895\n",
      " 0.97614625 0.96795575 1.         0.99016297 0.99050072 0.96538039\n",
      " 0.98488559 0.97086887 0.94026007 0.87748037 0.83483915 0.85413324\n",
      " 0.77336823 0.77269273 0.88014017 0.84007431 0.89673225 0.85527316\n",
      " 0.83884995 0.74233725 0.82327113 0.78143207 0.6665963  0.7921557\n",
      " 0.64118044 0.68614371 0.66001013 0.65203074 0.58642236 0.56586169\n",
      " 0.66089673 0.65515494 0.70970193 0.66452757 0.69437642 0.69218104\n",
      " 0.63569197 0.65266402 0.63780292 0.7267162  0.71388162 0.74191506\n",
      " 0.75002111 0.77222832 0.83049059 0.8194292  0.8289707  0.8125475\n",
      " 0.78776492 0.75162543 0.78426074 0.77974331 0.81326522 0.8141096\n",
      " 0.79473106 0.83336148 0.85898843 0.83901883 0.85628641 0.87486279\n",
      " 0.88782403 0.90095415 0.92793211 0.948535   0.93333615 0.91746179\n",
      " 0.92544119 0.91771511 0.9483239  0.94064004 0.96635143 0.9563033\n",
      " 0.96491598 0.92752647 0.91844857 0.90468633 0.89077663 0.8782481\n",
      " 0.86782104 0.8598839  0.85457498 0.85182071]\n",
      "9 day output [[0.8513746]]\n",
      "10 day input [0.93304061 0.94950604 0.96424048 0.95512117 0.95989192 0.96635143\n",
      " 0.96246728 0.92295027 0.9598497  0.98792536 0.98594106 0.92531453\n",
      " 0.92172591 0.96474711 0.97572406 0.99159841 0.96972895 0.97614625\n",
      " 0.96795575 1.         0.99016297 0.99050072 0.96538039 0.98488559\n",
      " 0.97086887 0.94026007 0.87748037 0.83483915 0.85413324 0.77336823\n",
      " 0.77269273 0.88014017 0.84007431 0.89673225 0.85527316 0.83884995\n",
      " 0.74233725 0.82327113 0.78143207 0.6665963  0.7921557  0.64118044\n",
      " 0.68614371 0.66001013 0.65203074 0.58642236 0.56586169 0.66089673\n",
      " 0.65515494 0.70970193 0.66452757 0.69437642 0.69218104 0.63569197\n",
      " 0.65266402 0.63780292 0.7267162  0.71388162 0.74191506 0.75002111\n",
      " 0.77222832 0.83049059 0.8194292  0.8289707  0.8125475  0.78776492\n",
      " 0.75162543 0.78426074 0.77974331 0.81326522 0.8141096  0.79473106\n",
      " 0.83336148 0.85898843 0.83901883 0.85628641 0.87486279 0.88782403\n",
      " 0.90095415 0.92793211 0.948535   0.93333615 0.91746179 0.92544119\n",
      " 0.91771511 0.9483239  0.94064004 0.96635143 0.9563033  0.96491598\n",
      " 0.92752647 0.91844857 0.90468633 0.89077663 0.8782481  0.86782104\n",
      " 0.8598839  0.85457498 0.85182071 0.85137463]\n",
      "10 day output [[0.8528606]]\n",
      "11 day input [0.94950604 0.96424048 0.95512117 0.95989192 0.96635143 0.96246728\n",
      " 0.92295027 0.9598497  0.98792536 0.98594106 0.92531453 0.92172591\n",
      " 0.96474711 0.97572406 0.99159841 0.96972895 0.97614625 0.96795575\n",
      " 1.         0.99016297 0.99050072 0.96538039 0.98488559 0.97086887\n",
      " 0.94026007 0.87748037 0.83483915 0.85413324 0.77336823 0.77269273\n",
      " 0.88014017 0.84007431 0.89673225 0.85527316 0.83884995 0.74233725\n",
      " 0.82327113 0.78143207 0.6665963  0.7921557  0.64118044 0.68614371\n",
      " 0.66001013 0.65203074 0.58642236 0.56586169 0.66089673 0.65515494\n",
      " 0.70970193 0.66452757 0.69437642 0.69218104 0.63569197 0.65266402\n",
      " 0.63780292 0.7267162  0.71388162 0.74191506 0.75002111 0.77222832\n",
      " 0.83049059 0.8194292  0.8289707  0.8125475  0.78776492 0.75162543\n",
      " 0.78426074 0.77974331 0.81326522 0.8141096  0.79473106 0.83336148\n",
      " 0.85898843 0.83901883 0.85628641 0.87486279 0.88782403 0.90095415\n",
      " 0.92793211 0.948535   0.93333615 0.91746179 0.92544119 0.91771511\n",
      " 0.9483239  0.94064004 0.96635143 0.9563033  0.96491598 0.92752647\n",
      " 0.91844857 0.90468633 0.89077663 0.8782481  0.86782104 0.8598839\n",
      " 0.85457498 0.85182071 0.85137463 0.85286063]\n",
      "11 day output [[0.8558154]]\n",
      "12 day input [0.96424048 0.95512117 0.95989192 0.96635143 0.96246728 0.92295027\n",
      " 0.9598497  0.98792536 0.98594106 0.92531453 0.92172591 0.96474711\n",
      " 0.97572406 0.99159841 0.96972895 0.97614625 0.96795575 1.\n",
      " 0.99016297 0.99050072 0.96538039 0.98488559 0.97086887 0.94026007\n",
      " 0.87748037 0.83483915 0.85413324 0.77336823 0.77269273 0.88014017\n",
      " 0.84007431 0.89673225 0.85527316 0.83884995 0.74233725 0.82327113\n",
      " 0.78143207 0.6665963  0.7921557  0.64118044 0.68614371 0.66001013\n",
      " 0.65203074 0.58642236 0.56586169 0.66089673 0.65515494 0.70970193\n",
      " 0.66452757 0.69437642 0.69218104 0.63569197 0.65266402 0.63780292\n",
      " 0.7267162  0.71388162 0.74191506 0.75002111 0.77222832 0.83049059\n",
      " 0.8194292  0.8289707  0.8125475  0.78776492 0.75162543 0.78426074\n",
      " 0.77974331 0.81326522 0.8141096  0.79473106 0.83336148 0.85898843\n",
      " 0.83901883 0.85628641 0.87486279 0.88782403 0.90095415 0.92793211\n",
      " 0.948535   0.93333615 0.91746179 0.92544119 0.91771511 0.9483239\n",
      " 0.94064004 0.96635143 0.9563033  0.96491598 0.92752647 0.91844857\n",
      " 0.90468633 0.89077663 0.8782481  0.86782104 0.8598839  0.85457498\n",
      " 0.85182071 0.85137463 0.85286063 0.85581541]\n",
      "12 day output [[0.8597318]]\n",
      "13 day input [0.95512117 0.95989192 0.96635143 0.96246728 0.92295027 0.9598497\n",
      " 0.98792536 0.98594106 0.92531453 0.92172591 0.96474711 0.97572406\n",
      " 0.99159841 0.96972895 0.97614625 0.96795575 1.         0.99016297\n",
      " 0.99050072 0.96538039 0.98488559 0.97086887 0.94026007 0.87748037\n",
      " 0.83483915 0.85413324 0.77336823 0.77269273 0.88014017 0.84007431\n",
      " 0.89673225 0.85527316 0.83884995 0.74233725 0.82327113 0.78143207\n",
      " 0.6665963  0.7921557  0.64118044 0.68614371 0.66001013 0.65203074\n",
      " 0.58642236 0.56586169 0.66089673 0.65515494 0.70970193 0.66452757\n",
      " 0.69437642 0.69218104 0.63569197 0.65266402 0.63780292 0.7267162\n",
      " 0.71388162 0.74191506 0.75002111 0.77222832 0.83049059 0.8194292\n",
      " 0.8289707  0.8125475  0.78776492 0.75162543 0.78426074 0.77974331\n",
      " 0.81326522 0.8141096  0.79473106 0.83336148 0.85898843 0.83901883\n",
      " 0.85628641 0.87486279 0.88782403 0.90095415 0.92793211 0.948535\n",
      " 0.93333615 0.91746179 0.92544119 0.91771511 0.9483239  0.94064004\n",
      " 0.96635143 0.9563033  0.96491598 0.92752647 0.91844857 0.90468633\n",
      " 0.89077663 0.8782481  0.86782104 0.8598839  0.85457498 0.85182071\n",
      " 0.85137463 0.85286063 0.85581541 0.85973179]\n",
      "13 day output [[0.8641011]]\n",
      "14 day input [0.95989192 0.96635143 0.96246728 0.92295027 0.9598497  0.98792536\n",
      " 0.98594106 0.92531453 0.92172591 0.96474711 0.97572406 0.99159841\n",
      " 0.96972895 0.97614625 0.96795575 1.         0.99016297 0.99050072\n",
      " 0.96538039 0.98488559 0.97086887 0.94026007 0.87748037 0.83483915\n",
      " 0.85413324 0.77336823 0.77269273 0.88014017 0.84007431 0.89673225\n",
      " 0.85527316 0.83884995 0.74233725 0.82327113 0.78143207 0.6665963\n",
      " 0.7921557  0.64118044 0.68614371 0.66001013 0.65203074 0.58642236\n",
      " 0.56586169 0.66089673 0.65515494 0.70970193 0.66452757 0.69437642\n",
      " 0.69218104 0.63569197 0.65266402 0.63780292 0.7267162  0.71388162\n",
      " 0.74191506 0.75002111 0.77222832 0.83049059 0.8194292  0.8289707\n",
      " 0.8125475  0.78776492 0.75162543 0.78426074 0.77974331 0.81326522\n",
      " 0.8141096  0.79473106 0.83336148 0.85898843 0.83901883 0.85628641\n",
      " 0.87486279 0.88782403 0.90095415 0.92793211 0.948535   0.93333615\n",
      " 0.91746179 0.92544119 0.91771511 0.9483239  0.94064004 0.96635143\n",
      " 0.9563033  0.96491598 0.92752647 0.91844857 0.90468633 0.89077663\n",
      " 0.8782481  0.86782104 0.8598839  0.85457498 0.85182071 0.85137463\n",
      " 0.85286063 0.85581541 0.85973179 0.86410111]\n",
      "14 day output [[0.8684503]]\n",
      "15 day input [0.96635143 0.96246728 0.92295027 0.9598497  0.98792536 0.98594106\n",
      " 0.92531453 0.92172591 0.96474711 0.97572406 0.99159841 0.96972895\n",
      " 0.97614625 0.96795575 1.         0.99016297 0.99050072 0.96538039\n",
      " 0.98488559 0.97086887 0.94026007 0.87748037 0.83483915 0.85413324\n",
      " 0.77336823 0.77269273 0.88014017 0.84007431 0.89673225 0.85527316\n",
      " 0.83884995 0.74233725 0.82327113 0.78143207 0.6665963  0.7921557\n",
      " 0.64118044 0.68614371 0.66001013 0.65203074 0.58642236 0.56586169\n",
      " 0.66089673 0.65515494 0.70970193 0.66452757 0.69437642 0.69218104\n",
      " 0.63569197 0.65266402 0.63780292 0.7267162  0.71388162 0.74191506\n",
      " 0.75002111 0.77222832 0.83049059 0.8194292  0.8289707  0.8125475\n",
      " 0.78776492 0.75162543 0.78426074 0.77974331 0.81326522 0.8141096\n",
      " 0.79473106 0.83336148 0.85898843 0.83901883 0.85628641 0.87486279\n",
      " 0.88782403 0.90095415 0.92793211 0.948535   0.93333615 0.91746179\n",
      " 0.92544119 0.91771511 0.9483239  0.94064004 0.96635143 0.9563033\n",
      " 0.96491598 0.92752647 0.91844857 0.90468633 0.89077663 0.8782481\n",
      " 0.86782104 0.8598839  0.85457498 0.85182071 0.85137463 0.85286063\n",
      " 0.85581541 0.85973179 0.86410111 0.86845028]\n",
      "15 day output [[0.8723738]]\n",
      "16 day input [0.96246728 0.92295027 0.9598497  0.98792536 0.98594106 0.92531453\n",
      " 0.92172591 0.96474711 0.97572406 0.99159841 0.96972895 0.97614625\n",
      " 0.96795575 1.         0.99016297 0.99050072 0.96538039 0.98488559\n",
      " 0.97086887 0.94026007 0.87748037 0.83483915 0.85413324 0.77336823\n",
      " 0.77269273 0.88014017 0.84007431 0.89673225 0.85527316 0.83884995\n",
      " 0.74233725 0.82327113 0.78143207 0.6665963  0.7921557  0.64118044\n",
      " 0.68614371 0.66001013 0.65203074 0.58642236 0.56586169 0.66089673\n",
      " 0.65515494 0.70970193 0.66452757 0.69437642 0.69218104 0.63569197\n",
      " 0.65266402 0.63780292 0.7267162  0.71388162 0.74191506 0.75002111\n",
      " 0.77222832 0.83049059 0.8194292  0.8289707  0.8125475  0.78776492\n",
      " 0.75162543 0.78426074 0.77974331 0.81326522 0.8141096  0.79473106\n",
      " 0.83336148 0.85898843 0.83901883 0.85628641 0.87486279 0.88782403\n",
      " 0.90095415 0.92793211 0.948535   0.93333615 0.91746179 0.92544119\n",
      " 0.91771511 0.9483239  0.94064004 0.96635143 0.9563033  0.96491598\n",
      " 0.92752647 0.91844857 0.90468633 0.89077663 0.8782481  0.86782104\n",
      " 0.8598839  0.85457498 0.85182071 0.85137463 0.85286063 0.85581541\n",
      " 0.85973179 0.86410111 0.86845028 0.87237382]\n"
     ]
    },
    {
     "name": "stdout",
     "output_type": "stream",
     "text": [
      "16 day output [[0.87555647]]\n",
      "17 day input [0.92295027 0.9598497  0.98792536 0.98594106 0.92531453 0.92172591\n",
      " 0.96474711 0.97572406 0.99159841 0.96972895 0.97614625 0.96795575\n",
      " 1.         0.99016297 0.99050072 0.96538039 0.98488559 0.97086887\n",
      " 0.94026007 0.87748037 0.83483915 0.85413324 0.77336823 0.77269273\n",
      " 0.88014017 0.84007431 0.89673225 0.85527316 0.83884995 0.74233725\n",
      " 0.82327113 0.78143207 0.6665963  0.7921557  0.64118044 0.68614371\n",
      " 0.66001013 0.65203074 0.58642236 0.56586169 0.66089673 0.65515494\n",
      " 0.70970193 0.66452757 0.69437642 0.69218104 0.63569197 0.65266402\n",
      " 0.63780292 0.7267162  0.71388162 0.74191506 0.75002111 0.77222832\n",
      " 0.83049059 0.8194292  0.8289707  0.8125475  0.78776492 0.75162543\n",
      " 0.78426074 0.77974331 0.81326522 0.8141096  0.79473106 0.83336148\n",
      " 0.85898843 0.83901883 0.85628641 0.87486279 0.88782403 0.90095415\n",
      " 0.92793211 0.948535   0.93333615 0.91746179 0.92544119 0.91771511\n",
      " 0.9483239  0.94064004 0.96635143 0.9563033  0.96491598 0.92752647\n",
      " 0.91844857 0.90468633 0.89077663 0.8782481  0.86782104 0.8598839\n",
      " 0.85457498 0.85182071 0.85137463 0.85286063 0.85581541 0.85973179\n",
      " 0.86410111 0.86845028 0.87237382 0.87555647]\n",
      "17 day output [[0.87778723]]\n",
      "18 day input [0.9598497  0.98792536 0.98594106 0.92531453 0.92172591 0.96474711\n",
      " 0.97572406 0.99159841 0.96972895 0.97614625 0.96795575 1.\n",
      " 0.99016297 0.99050072 0.96538039 0.98488559 0.97086887 0.94026007\n",
      " 0.87748037 0.83483915 0.85413324 0.77336823 0.77269273 0.88014017\n",
      " 0.84007431 0.89673225 0.85527316 0.83884995 0.74233725 0.82327113\n",
      " 0.78143207 0.6665963  0.7921557  0.64118044 0.68614371 0.66001013\n",
      " 0.65203074 0.58642236 0.56586169 0.66089673 0.65515494 0.70970193\n",
      " 0.66452757 0.69437642 0.69218104 0.63569197 0.65266402 0.63780292\n",
      " 0.7267162  0.71388162 0.74191506 0.75002111 0.77222832 0.83049059\n",
      " 0.8194292  0.8289707  0.8125475  0.78776492 0.75162543 0.78426074\n",
      " 0.77974331 0.81326522 0.8141096  0.79473106 0.83336148 0.85898843\n",
      " 0.83901883 0.85628641 0.87486279 0.88782403 0.90095415 0.92793211\n",
      " 0.948535   0.93333615 0.91746179 0.92544119 0.91771511 0.9483239\n",
      " 0.94064004 0.96635143 0.9563033  0.96491598 0.92752647 0.91844857\n",
      " 0.90468633 0.89077663 0.8782481  0.86782104 0.8598839  0.85457498\n",
      " 0.85182071 0.85137463 0.85286063 0.85581541 0.85973179 0.86410111\n",
      " 0.86845028 0.87237382 0.87555647 0.87778723]\n",
      "18 day output [[0.8789623]]\n",
      "19 day input [0.98792536 0.98594106 0.92531453 0.92172591 0.96474711 0.97572406\n",
      " 0.99159841 0.96972895 0.97614625 0.96795575 1.         0.99016297\n",
      " 0.99050072 0.96538039 0.98488559 0.97086887 0.94026007 0.87748037\n",
      " 0.83483915 0.85413324 0.77336823 0.77269273 0.88014017 0.84007431\n",
      " 0.89673225 0.85527316 0.83884995 0.74233725 0.82327113 0.78143207\n",
      " 0.6665963  0.7921557  0.64118044 0.68614371 0.66001013 0.65203074\n",
      " 0.58642236 0.56586169 0.66089673 0.65515494 0.70970193 0.66452757\n",
      " 0.69437642 0.69218104 0.63569197 0.65266402 0.63780292 0.7267162\n",
      " 0.71388162 0.74191506 0.75002111 0.77222832 0.83049059 0.8194292\n",
      " 0.8289707  0.8125475  0.78776492 0.75162543 0.78426074 0.77974331\n",
      " 0.81326522 0.8141096  0.79473106 0.83336148 0.85898843 0.83901883\n",
      " 0.85628641 0.87486279 0.88782403 0.90095415 0.92793211 0.948535\n",
      " 0.93333615 0.91746179 0.92544119 0.91771511 0.9483239  0.94064004\n",
      " 0.96635143 0.9563033  0.96491598 0.92752647 0.91844857 0.90468633\n",
      " 0.89077663 0.8782481  0.86782104 0.8598839  0.85457498 0.85182071\n",
      " 0.85137463 0.85286063 0.85581541 0.85973179 0.86410111 0.86845028\n",
      " 0.87237382 0.87555647 0.87778723 0.87896228]\n",
      "19 day output [[0.87907743]]\n",
      "20 day input [0.98594106 0.92531453 0.92172591 0.96474711 0.97572406 0.99159841\n",
      " 0.96972895 0.97614625 0.96795575 1.         0.99016297 0.99050072\n",
      " 0.96538039 0.98488559 0.97086887 0.94026007 0.87748037 0.83483915\n",
      " 0.85413324 0.77336823 0.77269273 0.88014017 0.84007431 0.89673225\n",
      " 0.85527316 0.83884995 0.74233725 0.82327113 0.78143207 0.6665963\n",
      " 0.7921557  0.64118044 0.68614371 0.66001013 0.65203074 0.58642236\n",
      " 0.56586169 0.66089673 0.65515494 0.70970193 0.66452757 0.69437642\n",
      " 0.69218104 0.63569197 0.65266402 0.63780292 0.7267162  0.71388162\n",
      " 0.74191506 0.75002111 0.77222832 0.83049059 0.8194292  0.8289707\n",
      " 0.8125475  0.78776492 0.75162543 0.78426074 0.77974331 0.81326522\n",
      " 0.8141096  0.79473106 0.83336148 0.85898843 0.83901883 0.85628641\n",
      " 0.87486279 0.88782403 0.90095415 0.92793211 0.948535   0.93333615\n",
      " 0.91746179 0.92544119 0.91771511 0.9483239  0.94064004 0.96635143\n",
      " 0.9563033  0.96491598 0.92752647 0.91844857 0.90468633 0.89077663\n",
      " 0.8782481  0.86782104 0.8598839  0.85457498 0.85182071 0.85137463\n",
      " 0.85286063 0.85581541 0.85973179 0.86410111 0.86845028 0.87237382\n",
      " 0.87555647 0.87778723 0.87896228 0.87907743]\n",
      "20 day output [[0.8782152]]\n",
      "21 day input [0.92531453 0.92172591 0.96474711 0.97572406 0.99159841 0.96972895\n",
      " 0.97614625 0.96795575 1.         0.99016297 0.99050072 0.96538039\n",
      " 0.98488559 0.97086887 0.94026007 0.87748037 0.83483915 0.85413324\n",
      " 0.77336823 0.77269273 0.88014017 0.84007431 0.89673225 0.85527316\n",
      " 0.83884995 0.74233725 0.82327113 0.78143207 0.6665963  0.7921557\n",
      " 0.64118044 0.68614371 0.66001013 0.65203074 0.58642236 0.56586169\n",
      " 0.66089673 0.65515494 0.70970193 0.66452757 0.69437642 0.69218104\n",
      " 0.63569197 0.65266402 0.63780292 0.7267162  0.71388162 0.74191506\n",
      " 0.75002111 0.77222832 0.83049059 0.8194292  0.8289707  0.8125475\n",
      " 0.78776492 0.75162543 0.78426074 0.77974331 0.81326522 0.8141096\n",
      " 0.79473106 0.83336148 0.85898843 0.83901883 0.85628641 0.87486279\n",
      " 0.88782403 0.90095415 0.92793211 0.948535   0.93333615 0.91746179\n",
      " 0.92544119 0.91771511 0.9483239  0.94064004 0.96635143 0.9563033\n",
      " 0.96491598 0.92752647 0.91844857 0.90468633 0.89077663 0.8782481\n",
      " 0.86782104 0.8598839  0.85457498 0.85182071 0.85137463 0.85286063\n",
      " 0.85581541 0.85973179 0.86410111 0.86845028 0.87237382 0.87555647\n",
      " 0.87778723 0.87896228 0.87907743 0.87821519]\n",
      "21 day output [[0.87652385]]\n",
      "22 day input [0.92172591 0.96474711 0.97572406 0.99159841 0.96972895 0.97614625\n",
      " 0.96795575 1.         0.99016297 0.99050072 0.96538039 0.98488559\n",
      " 0.97086887 0.94026007 0.87748037 0.83483915 0.85413324 0.77336823\n",
      " 0.77269273 0.88014017 0.84007431 0.89673225 0.85527316 0.83884995\n",
      " 0.74233725 0.82327113 0.78143207 0.6665963  0.7921557  0.64118044\n",
      " 0.68614371 0.66001013 0.65203074 0.58642236 0.56586169 0.66089673\n",
      " 0.65515494 0.70970193 0.66452757 0.69437642 0.69218104 0.63569197\n",
      " 0.65266402 0.63780292 0.7267162  0.71388162 0.74191506 0.75002111\n",
      " 0.77222832 0.83049059 0.8194292  0.8289707  0.8125475  0.78776492\n",
      " 0.75162543 0.78426074 0.77974331 0.81326522 0.8141096  0.79473106\n",
      " 0.83336148 0.85898843 0.83901883 0.85628641 0.87486279 0.88782403\n",
      " 0.90095415 0.92793211 0.948535   0.93333615 0.91746179 0.92544119\n",
      " 0.91771511 0.9483239  0.94064004 0.96635143 0.9563033  0.96491598\n",
      " 0.92752647 0.91844857 0.90468633 0.89077663 0.8782481  0.86782104\n",
      " 0.8598839  0.85457498 0.85182071 0.85137463 0.85286063 0.85581541\n",
      " 0.85973179 0.86410111 0.86845028 0.87237382 0.87555647 0.87778723\n",
      " 0.87896228 0.87907743 0.87821519 0.87652385]\n",
      "22 day output [[0.8741958]]\n",
      "23 day input [0.96474711 0.97572406 0.99159841 0.96972895 0.97614625 0.96795575\n",
      " 1.         0.99016297 0.99050072 0.96538039 0.98488559 0.97086887\n",
      " 0.94026007 0.87748037 0.83483915 0.85413324 0.77336823 0.77269273\n",
      " 0.88014017 0.84007431 0.89673225 0.85527316 0.83884995 0.74233725\n",
      " 0.82327113 0.78143207 0.6665963  0.7921557  0.64118044 0.68614371\n",
      " 0.66001013 0.65203074 0.58642236 0.56586169 0.66089673 0.65515494\n",
      " 0.70970193 0.66452757 0.69437642 0.69218104 0.63569197 0.65266402\n",
      " 0.63780292 0.7267162  0.71388162 0.74191506 0.75002111 0.77222832\n",
      " 0.83049059 0.8194292  0.8289707  0.8125475  0.78776492 0.75162543\n",
      " 0.78426074 0.77974331 0.81326522 0.8141096  0.79473106 0.83336148\n",
      " 0.85898843 0.83901883 0.85628641 0.87486279 0.88782403 0.90095415\n",
      " 0.92793211 0.948535   0.93333615 0.91746179 0.92544119 0.91771511\n",
      " 0.9483239  0.94064004 0.96635143 0.9563033  0.96491598 0.92752647\n",
      " 0.91844857 0.90468633 0.89077663 0.8782481  0.86782104 0.8598839\n",
      " 0.85457498 0.85182071 0.85137463 0.85286063 0.85581541 0.85973179\n",
      " 0.86410111 0.86845028 0.87237382 0.87555647 0.87778723 0.87896228\n",
      " 0.87907743 0.87821519 0.87652385 0.87419581]\n",
      "23 day output [[0.8714447]]\n",
      "24 day input [0.97572406 0.99159841 0.96972895 0.97614625 0.96795575 1.\n",
      " 0.99016297 0.99050072 0.96538039 0.98488559 0.97086887 0.94026007\n",
      " 0.87748037 0.83483915 0.85413324 0.77336823 0.77269273 0.88014017\n",
      " 0.84007431 0.89673225 0.85527316 0.83884995 0.74233725 0.82327113\n",
      " 0.78143207 0.6665963  0.7921557  0.64118044 0.68614371 0.66001013\n",
      " 0.65203074 0.58642236 0.56586169 0.66089673 0.65515494 0.70970193\n",
      " 0.66452757 0.69437642 0.69218104 0.63569197 0.65266402 0.63780292\n",
      " 0.7267162  0.71388162 0.74191506 0.75002111 0.77222832 0.83049059\n",
      " 0.8194292  0.8289707  0.8125475  0.78776492 0.75162543 0.78426074\n",
      " 0.77974331 0.81326522 0.8141096  0.79473106 0.83336148 0.85898843\n",
      " 0.83901883 0.85628641 0.87486279 0.88782403 0.90095415 0.92793211\n",
      " 0.948535   0.93333615 0.91746179 0.92544119 0.91771511 0.9483239\n",
      " 0.94064004 0.96635143 0.9563033  0.96491598 0.92752647 0.91844857\n",
      " 0.90468633 0.89077663 0.8782481  0.86782104 0.8598839  0.85457498\n",
      " 0.85182071 0.85137463 0.85286063 0.85581541 0.85973179 0.86410111\n",
      " 0.86845028 0.87237382 0.87555647 0.87778723 0.87896228 0.87907743\n",
      " 0.87821519 0.87652385 0.87419581 0.8714447 ]\n",
      "24 day output [[0.86848503]]\n",
      "25 day input [0.99159841 0.96972895 0.97614625 0.96795575 1.         0.99016297\n",
      " 0.99050072 0.96538039 0.98488559 0.97086887 0.94026007 0.87748037\n",
      " 0.83483915 0.85413324 0.77336823 0.77269273 0.88014017 0.84007431\n",
      " 0.89673225 0.85527316 0.83884995 0.74233725 0.82327113 0.78143207\n",
      " 0.6665963  0.7921557  0.64118044 0.68614371 0.66001013 0.65203074\n",
      " 0.58642236 0.56586169 0.66089673 0.65515494 0.70970193 0.66452757\n",
      " 0.69437642 0.69218104 0.63569197 0.65266402 0.63780292 0.7267162\n",
      " 0.71388162 0.74191506 0.75002111 0.77222832 0.83049059 0.8194292\n",
      " 0.8289707  0.8125475  0.78776492 0.75162543 0.78426074 0.77974331\n",
      " 0.81326522 0.8141096  0.79473106 0.83336148 0.85898843 0.83901883\n",
      " 0.85628641 0.87486279 0.88782403 0.90095415 0.92793211 0.948535\n",
      " 0.93333615 0.91746179 0.92544119 0.91771511 0.9483239  0.94064004\n",
      " 0.96635143 0.9563033  0.96491598 0.92752647 0.91844857 0.90468633\n",
      " 0.89077663 0.8782481  0.86782104 0.8598839  0.85457498 0.85182071\n",
      " 0.85137463 0.85286063 0.85581541 0.85973179 0.86410111 0.86845028\n",
      " 0.87237382 0.87555647 0.87778723 0.87896228 0.87907743 0.87821519\n",
      " 0.87652385 0.87419581 0.8714447  0.86848503]\n"
     ]
    },
    {
     "name": "stdout",
     "output_type": "stream",
     "text": [
      "25 day output [[0.86551446]]\n",
      "26 day input [0.96972895 0.97614625 0.96795575 1.         0.99016297 0.99050072\n",
      " 0.96538039 0.98488559 0.97086887 0.94026007 0.87748037 0.83483915\n",
      " 0.85413324 0.77336823 0.77269273 0.88014017 0.84007431 0.89673225\n",
      " 0.85527316 0.83884995 0.74233725 0.82327113 0.78143207 0.6665963\n",
      " 0.7921557  0.64118044 0.68614371 0.66001013 0.65203074 0.58642236\n",
      " 0.56586169 0.66089673 0.65515494 0.70970193 0.66452757 0.69437642\n",
      " 0.69218104 0.63569197 0.65266402 0.63780292 0.7267162  0.71388162\n",
      " 0.74191506 0.75002111 0.77222832 0.83049059 0.8194292  0.8289707\n",
      " 0.8125475  0.78776492 0.75162543 0.78426074 0.77974331 0.81326522\n",
      " 0.8141096  0.79473106 0.83336148 0.85898843 0.83901883 0.85628641\n",
      " 0.87486279 0.88782403 0.90095415 0.92793211 0.948535   0.93333615\n",
      " 0.91746179 0.92544119 0.91771511 0.9483239  0.94064004 0.96635143\n",
      " 0.9563033  0.96491598 0.92752647 0.91844857 0.90468633 0.89077663\n",
      " 0.8782481  0.86782104 0.8598839  0.85457498 0.85182071 0.85137463\n",
      " 0.85286063 0.85581541 0.85973179 0.86410111 0.86845028 0.87237382\n",
      " 0.87555647 0.87778723 0.87896228 0.87907743 0.87821519 0.87652385\n",
      " 0.87419581 0.8714447  0.86848503 0.86551446]\n",
      "26 day output [[0.8627016]]\n",
      "27 day input [0.97614625 0.96795575 1.         0.99016297 0.99050072 0.96538039\n",
      " 0.98488559 0.97086887 0.94026007 0.87748037 0.83483915 0.85413324\n",
      " 0.77336823 0.77269273 0.88014017 0.84007431 0.89673225 0.85527316\n",
      " 0.83884995 0.74233725 0.82327113 0.78143207 0.6665963  0.7921557\n",
      " 0.64118044 0.68614371 0.66001013 0.65203074 0.58642236 0.56586169\n",
      " 0.66089673 0.65515494 0.70970193 0.66452757 0.69437642 0.69218104\n",
      " 0.63569197 0.65266402 0.63780292 0.7267162  0.71388162 0.74191506\n",
      " 0.75002111 0.77222832 0.83049059 0.8194292  0.8289707  0.8125475\n",
      " 0.78776492 0.75162543 0.78426074 0.77974331 0.81326522 0.8141096\n",
      " 0.79473106 0.83336148 0.85898843 0.83901883 0.85628641 0.87486279\n",
      " 0.88782403 0.90095415 0.92793211 0.948535   0.93333615 0.91746179\n",
      " 0.92544119 0.91771511 0.9483239  0.94064004 0.96635143 0.9563033\n",
      " 0.96491598 0.92752647 0.91844857 0.90468633 0.89077663 0.8782481\n",
      " 0.86782104 0.8598839  0.85457498 0.85182071 0.85137463 0.85286063\n",
      " 0.85581541 0.85973179 0.86410111 0.86845028 0.87237382 0.87555647\n",
      " 0.87778723 0.87896228 0.87907743 0.87821519 0.87652385 0.87419581\n",
      " 0.8714447  0.86848503 0.86551446 0.86270159]\n",
      "27 day output [[0.86017704]]\n",
      "28 day input [0.96795575 1.         0.99016297 0.99050072 0.96538039 0.98488559\n",
      " 0.97086887 0.94026007 0.87748037 0.83483915 0.85413324 0.77336823\n",
      " 0.77269273 0.88014017 0.84007431 0.89673225 0.85527316 0.83884995\n",
      " 0.74233725 0.82327113 0.78143207 0.6665963  0.7921557  0.64118044\n",
      " 0.68614371 0.66001013 0.65203074 0.58642236 0.56586169 0.66089673\n",
      " 0.65515494 0.70970193 0.66452757 0.69437642 0.69218104 0.63569197\n",
      " 0.65266402 0.63780292 0.7267162  0.71388162 0.74191506 0.75002111\n",
      " 0.77222832 0.83049059 0.8194292  0.8289707  0.8125475  0.78776492\n",
      " 0.75162543 0.78426074 0.77974331 0.81326522 0.8141096  0.79473106\n",
      " 0.83336148 0.85898843 0.83901883 0.85628641 0.87486279 0.88782403\n",
      " 0.90095415 0.92793211 0.948535   0.93333615 0.91746179 0.92544119\n",
      " 0.91771511 0.9483239  0.94064004 0.96635143 0.9563033  0.96491598\n",
      " 0.92752647 0.91844857 0.90468633 0.89077663 0.8782481  0.86782104\n",
      " 0.8598839  0.85457498 0.85182071 0.85137463 0.85286063 0.85581541\n",
      " 0.85973179 0.86410111 0.86845028 0.87237382 0.87555647 0.87778723\n",
      " 0.87896228 0.87907743 0.87821519 0.87652385 0.87419581 0.8714447\n",
      " 0.86848503 0.86551446 0.86270159 0.86017704]\n",
      "28 day output [[0.85802925]]\n",
      "29 day input [1.         0.99016297 0.99050072 0.96538039 0.98488559 0.97086887\n",
      " 0.94026007 0.87748037 0.83483915 0.85413324 0.77336823 0.77269273\n",
      " 0.88014017 0.84007431 0.89673225 0.85527316 0.83884995 0.74233725\n",
      " 0.82327113 0.78143207 0.6665963  0.7921557  0.64118044 0.68614371\n",
      " 0.66001013 0.65203074 0.58642236 0.56586169 0.66089673 0.65515494\n",
      " 0.70970193 0.66452757 0.69437642 0.69218104 0.63569197 0.65266402\n",
      " 0.63780292 0.7267162  0.71388162 0.74191506 0.75002111 0.77222832\n",
      " 0.83049059 0.8194292  0.8289707  0.8125475  0.78776492 0.75162543\n",
      " 0.78426074 0.77974331 0.81326522 0.8141096  0.79473106 0.83336148\n",
      " 0.85898843 0.83901883 0.85628641 0.87486279 0.88782403 0.90095415\n",
      " 0.92793211 0.948535   0.93333615 0.91746179 0.92544119 0.91771511\n",
      " 0.9483239  0.94064004 0.96635143 0.9563033  0.96491598 0.92752647\n",
      " 0.91844857 0.90468633 0.89077663 0.8782481  0.86782104 0.8598839\n",
      " 0.85457498 0.85182071 0.85137463 0.85286063 0.85581541 0.85973179\n",
      " 0.86410111 0.86845028 0.87237382 0.87555647 0.87778723 0.87896228\n",
      " 0.87907743 0.87821519 0.87652385 0.87419581 0.8714447  0.86848503\n",
      " 0.86551446 0.86270159 0.86017704 0.85802925]\n",
      "29 day output [[0.85630476]]\n",
      "[[0.9275264739990234], [0.9184485673904419], [0.9046863317489624], [0.8907766342163086], [0.8782480955123901], [0.8678210377693176], [0.8598839044570923], [0.854574978351593], [0.851820707321167], [0.851374626159668], [0.8528606295585632], [0.8558154106140137], [0.8597317934036255], [0.8641011118888855], [0.8684502840042114], [0.8723738193511963], [0.875556468963623], [0.8777872323989868], [0.8789622783660889], [0.8790774345397949], [0.8782151937484741], [0.8765238523483276], [0.8741958141326904], [0.8714447021484375], [0.8684850335121155], [0.8655144572257996], [0.8627015948295593], [0.8601770401000977], [0.8580292463302612], [0.8563047647476196]]\n"
     ]
    }
   ],
   "source": [
    "# demonstrate prediction for next 10 days\n",
    "from numpy import array\n",
    "\n",
    "lst_output=[]\n",
    "n_steps=100\n",
    "i=0\n",
    "while(i<30):\n",
    "    \n",
    "    if(len(temp_input)>100):\n",
    "        #print(temp_input)\n",
    "        x_input=np.array(temp_input[1:])\n",
    "        print(\"{} day input {}\".format(i,x_input))\n",
    "        x_input=x_input.reshape(1,-1)\n",
    "        x_input = x_input.reshape((1, n_steps, 1))\n",
    "        #print(x_input)\n",
    "        yhat = model.predict(x_input, verbose=0)\n",
    "        print(\"{} day output {}\".format(i,yhat))\n",
    "        temp_input.extend(yhat[0].tolist())\n",
    "        temp_input=temp_input[1:]\n",
    "        #print(temp_input)\n",
    "        lst_output.extend(yhat.tolist())\n",
    "        i=i+1\n",
    "    else:\n",
    "        x_input = x_input.reshape((1, n_steps,1))\n",
    "        yhat = model.predict(x_input, verbose=0)\n",
    "        print(yhat[0])\n",
    "        temp_input.extend(yhat[0].tolist())\n",
    "        print(len(temp_input))\n",
    "        lst_output.extend(yhat.tolist())\n",
    "        i=i+1\n",
    "    \n",
    "\n",
    "print(lst_output)"
   ]
  },
  {
   "cell_type": "code",
   "execution_count": 93,
   "metadata": {},
   "outputs": [],
   "source": [
    "day_new=np.arange(1,101)\n",
    "day_pred=np.arange(101,131)"
   ]
  },
  {
   "cell_type": "code",
   "execution_count": 94,
   "metadata": {},
   "outputs": [],
   "source": [
    "import matplotlib.pyplot as plt"
   ]
  },
  {
   "cell_type": "code",
   "execution_count": 95,
   "metadata": {},
   "outputs": [
    {
     "data": {
      "text/plain": [
       "1258"
      ]
     },
     "execution_count": 95,
     "metadata": {},
     "output_type": "execute_result"
    }
   ],
   "source": [
    "\n",
    "len(df1)"
   ]
  },
  {
   "cell_type": "code",
   "execution_count": 96,
   "metadata": {},
   "outputs": [
    {
     "data": {
      "text/plain": [
       "[<matplotlib.lines.Line2D at 0x203c7b8f198>]"
      ]
     },
     "execution_count": 96,
     "metadata": {},
     "output_type": "execute_result"
    },
    {
     "data": {
      "image/png": "[encoded data removed]",
      "text/plain": [
       "<Figure size 432x288 with 1 Axes>"
      ]
     },
     "metadata": {
      "needs_background": "light"
     },
     "output_type": "display_data"
    }
   ],
   "source": [
    "plt.plot(day_new,scaler.inverse_transform(df1[1158:]))\n",
    "plt.plot(day_pred,scaler.inverse_transform(lst_output))"
   ]
  },
  {
   "cell_type": "code",
   "execution_count": 97,
   "metadata": {},
   "outputs": [
    {
     "data": {
      "text/plain": [
       "[<matplotlib.lines.Line2D at 0x203c7c1f6d8>]"
      ]
     },
     "execution_count": 97,
     "metadata": {},
     "output_type": "execute_result"
    },
    {
     "data": {
      "image/png": "[encoded data removed]",
      "text/plain": [
       "<Figure size 432x288 with 1 Axes>"
      ]
     },
     "metadata": {
      "needs_background": "light"
     },
     "output_type": "display_data"
    }
   ],
   "source": [
    "df3=df1.tolist()\n",
    "df3.extend(lst_output)\n",
    "plt.plot(df3[1200:])"
   ]
  },
  {
   "cell_type": "code",
   "execution_count": 98,
   "metadata": {},
   "outputs": [],
   "source": [
    "df3=scaler.inverse_transform(df3).tolist()"
   ]
  },
  {
   "cell_type": "code",
   "execution_count": 99,
   "metadata": {},
   "outputs": [
    {
     "data": {
      "text/plain": [
       "[<matplotlib.lines.Line2D at 0x203c7c020f0>]"
      ]
     },
     "execution_count": 99,
     "metadata": {},
     "output_type": "execute_result"
    },
    {
     "data": {
      "image/png": "[encoded data removed]",
      "text/plain": [
       "<Figure size 432x288 with 1 Axes>"
      ]
     },
     "metadata": {
      "needs_background": "light"
     },
     "output_type": "display_data"
    }
   ],
   "source": [
    "\n",
    "plt.plot(df3)"
   ]
  },
  {
   "cell_type": "code",
   "execution_count": null,
   "metadata": {},
   "outputs": [],
   "source": []
  },
  {
   "cell_type": "code",
   "execution_count": null,
   "metadata": {},
   "outputs": [],
   "source": []
  }
 ],
 "metadata": {
  "kernelspec": {
   "display_name": "Python 3",
   "language": "python",
   "name": "python3"
  },
  "language_info": {
   "codemirror_mode": {
    "name": "ipython",
    "version": 3
   },
   "file_extension": ".py",
   "mimetype": "text/x-python",
   "name": "python",
   "nbconvert_exporter": "python",
   "pygments_lexer": "ipython3",
   "version": "3.7.3"
  }
 },
 "nbformat": 4,
 "nbformat_minor": 4
}
